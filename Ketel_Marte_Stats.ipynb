{
 "cells": [
  {
   "cell_type": "code",
   "execution_count": 39,
   "id": "70f13ce6",
   "metadata": {},
   "outputs": [
    {
     "name": "stdout",
     "output_type": "stream",
     "text": [
      "Index(['pitch_type', 'game_date', 'release_speed', 'release_pos_x',\n",
      "       'release_pos_z', 'player_name', 'batter', 'pitcher', 'events',\n",
      "       'description',\n",
      "       ...\n",
      "       'batter_days_until_next_game', 'api_break_z_with_gravity',\n",
      "       'api_break_x_arm', 'api_break_x_batter_in', 'arm_angle', 'attack_angle',\n",
      "       'attack_direction', 'swing_path_tilt',\n",
      "       'intercept_ball_minus_batter_pos_x_inches',\n",
      "       'intercept_ball_minus_batter_pos_y_inches'],\n",
      "      dtype='object', length=118)\n"
     ]
    }
   ],
   "source": [
    "# Find Ketel Marte player id\n",
    "from pybaseball import  playerid_lookup\n",
    "from pybaseball import  statcast_batter\n",
    "import pandas as pd\n",
    "\n",
    "playerid_lookup('marte', 'ketel')\n",
    "marte_stats = statcast_batter('2025-03-27','2025-09-27', 606466)\n",
    "print(marte_stats.columns)"
   ]
  },
  {
   "cell_type": "code",
   "execution_count": null,
   "id": "2b65071f",
   "metadata": {},
   "outputs": [
    {
     "ename": "NameError",
     "evalue": "name 'x_axis' is not defined",
     "output_type": "error",
     "traceback": [
      "\u001b[31m---------------------------------------------------------------------------\u001b[39m",
      "\u001b[31mNameError\u001b[39m                                 Traceback (most recent call last)",
      "\u001b[36mCell\u001b[39m\u001b[36m \u001b[39m\u001b[32mIn[40]\u001b[39m\u001b[32m, line 28\u001b[39m\n\u001b[32m     26\u001b[39m         counter += events.count(\u001b[33m'\u001b[39m\u001b[33mhome_run\u001b[39m\u001b[33m'\u001b[39m)\n\u001b[32m     27\u001b[39m     on_base_count[date] = counter\n\u001b[32m---> \u001b[39m\u001b[32m28\u001b[39m \u001b[43mx_axis\u001b[49m - np.array(on_base_count.keys())\n\u001b[32m     29\u001b[39m \u001b[38;5;28mprint\u001b[39m(x_axis)\n",
      "\u001b[31mNameError\u001b[39m: name 'x_axis' is not defined"
     ]
    }
   ],
   "source": [
    "#x = marte_stats.groupby(by=\"events\").count()\n",
    "game_events = {}\n",
    "on_base_count = {}\n",
    "for index, row in marte_stats.iterrows():\n",
    "    date = row['game_date']\n",
    "    event = row['events']\n",
    "\n",
    "    if date not in game_events:\n",
    "        game_events[date] = []\n",
    "    if pd.notna(event): \n",
    "        game_events[date].append(event)\n",
    "\n",
    "#print(game_events)\n",
    "\n",
    "for date, events in game_events.items():\n",
    "    counter = 0\n",
    "    if 'single' in events:\n",
    "        counter += events.count('single')\n",
    "    if 'double' in events:\n",
    "        counter += events.count('double')\n",
    "    if 'triple' in events:\n",
    "        counter += events.count('triple')\n",
    "    if 'walk' in events:\n",
    "        counter += events.count('walk')\n",
    "    if 'home_run' in events:\n",
    "        counter += events.count('home_run')\n",
    "    on_base_count[date] = counter\n",
    "x_axis = np.array(on_base_count.keys())\n",
    "print(x_axis)"
   ]
  },
  {
   "cell_type": "code",
   "execution_count": null,
   "id": "90b6d6be",
   "metadata": {},
   "outputs": [],
   "source": []
  }
 ],
 "metadata": {
  "kernelspec": {
   "display_name": "Python 3",
   "language": "python",
   "name": "python3"
  },
  "language_info": {
   "codemirror_mode": {
    "name": "ipython",
    "version": 3
   },
   "file_extension": ".py",
   "mimetype": "text/x-python",
   "name": "python",
   "nbconvert_exporter": "python",
   "pygments_lexer": "ipython3",
   "version": "3.12.12"
  }
 },
 "nbformat": 4,
 "nbformat_minor": 5
}
